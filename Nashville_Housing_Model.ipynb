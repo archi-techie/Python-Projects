{
 "cells": [
  {
   "cell_type": "markdown",
   "id": "f10995ee",
   "metadata": {},
   "source": [
    "# Predicting Price with Location (City) and Land Use"
   ]
  },
  {
   "cell_type": "markdown",
   "id": "f1344eea",
   "metadata": {},
   "source": [
    "## Prepare"
   ]
  },
  {
   "cell_type": "markdown",
   "id": "5ac35712",
   "metadata": {},
   "source": [
    "### Import"
   ]
  },
  {
   "cell_type": "code",
   "execution_count": 1,
   "id": "1a6637d1",
   "metadata": {
    "scrolled": false
   },
   "outputs": [
    {
     "data": {
      "text/html": [
       "<div>\n",
       "<style scoped>\n",
       "    .dataframe tbody tr th:only-of-type {\n",
       "        vertical-align: middle;\n",
       "    }\n",
       "\n",
       "    .dataframe tbody tr th {\n",
       "        vertical-align: top;\n",
       "    }\n",
       "\n",
       "    .dataframe thead th {\n",
       "        text-align: right;\n",
       "    }\n",
       "</style>\n",
       "<table border=\"1\" class=\"dataframe\">\n",
       "  <thead>\n",
       "    <tr style=\"text-align: right;\">\n",
       "      <th></th>\n",
       "      <th>UniqueID</th>\n",
       "      <th>ParcelID</th>\n",
       "      <th>LandUse</th>\n",
       "      <th>SalePrice</th>\n",
       "      <th>LegalReference</th>\n",
       "      <th>SoldAsVacant</th>\n",
       "      <th>OwnerName</th>\n",
       "      <th>Acreage</th>\n",
       "      <th>LandValue</th>\n",
       "      <th>BuildingValue</th>\n",
       "      <th>...</th>\n",
       "      <th>YearBuilt</th>\n",
       "      <th>Bedrooms</th>\n",
       "      <th>FullBath</th>\n",
       "      <th>HalfBath</th>\n",
       "      <th>SaleDateConverted</th>\n",
       "      <th>PropertySplitAddress</th>\n",
       "      <th>PropertySplitCity</th>\n",
       "      <th>OwnerSplitAddress</th>\n",
       "      <th>OwnerSplitCity</th>\n",
       "      <th>OwnerSplitState</th>\n",
       "    </tr>\n",
       "  </thead>\n",
       "  <tbody>\n",
       "    <tr>\n",
       "      <th>0</th>\n",
       "      <td>2045</td>\n",
       "      <td>007 00 0 125.00</td>\n",
       "      <td>SINGLE FAMILY</td>\n",
       "      <td>240000</td>\n",
       "      <td>20130412-0036474</td>\n",
       "      <td>No</td>\n",
       "      <td>FRAZIER, CYRENTHA LYNETTE</td>\n",
       "      <td>2.3</td>\n",
       "      <td>50000.0</td>\n",
       "      <td>168200.0</td>\n",
       "      <td>...</td>\n",
       "      <td>1986.0</td>\n",
       "      <td>3.0</td>\n",
       "      <td>3.0</td>\n",
       "      <td>0.0</td>\n",
       "      <td>4/9/2013</td>\n",
       "      <td>1808  FOX CHASE DR</td>\n",
       "      <td>GOODLETTSVILLE</td>\n",
       "      <td>1808  FOX CHASE DR</td>\n",
       "      <td>GOODLETTSVILLE</td>\n",
       "      <td>TN</td>\n",
       "    </tr>\n",
       "    <tr>\n",
       "      <th>1</th>\n",
       "      <td>16918</td>\n",
       "      <td>007 00 0 130.00</td>\n",
       "      <td>SINGLE FAMILY</td>\n",
       "      <td>366000</td>\n",
       "      <td>20140619-0053768</td>\n",
       "      <td>No</td>\n",
       "      <td>BONER, CHARLES &amp; LESLIE</td>\n",
       "      <td>3.5</td>\n",
       "      <td>50000.0</td>\n",
       "      <td>264100.0</td>\n",
       "      <td>...</td>\n",
       "      <td>1998.0</td>\n",
       "      <td>3.0</td>\n",
       "      <td>3.0</td>\n",
       "      <td>2.0</td>\n",
       "      <td>6/10/2014</td>\n",
       "      <td>1832  FOX CHASE DR</td>\n",
       "      <td>GOODLETTSVILLE</td>\n",
       "      <td>1832  FOX CHASE DR</td>\n",
       "      <td>GOODLETTSVILLE</td>\n",
       "      <td>TN</td>\n",
       "    </tr>\n",
       "    <tr>\n",
       "      <th>2</th>\n",
       "      <td>54582</td>\n",
       "      <td>007 00 0 138.00</td>\n",
       "      <td>SINGLE FAMILY</td>\n",
       "      <td>435000</td>\n",
       "      <td>20160927-0101718</td>\n",
       "      <td>No</td>\n",
       "      <td>WILSON, JAMES E. &amp; JOANNE</td>\n",
       "      <td>2.9</td>\n",
       "      <td>50000.0</td>\n",
       "      <td>216200.0</td>\n",
       "      <td>...</td>\n",
       "      <td>1987.0</td>\n",
       "      <td>4.0</td>\n",
       "      <td>3.0</td>\n",
       "      <td>0.0</td>\n",
       "      <td>9/26/2016</td>\n",
       "      <td>1864 FOX CHASE  DR</td>\n",
       "      <td>GOODLETTSVILLE</td>\n",
       "      <td>1864  FOX CHASE DR</td>\n",
       "      <td>GOODLETTSVILLE</td>\n",
       "      <td>TN</td>\n",
       "    </tr>\n",
       "    <tr>\n",
       "      <th>3</th>\n",
       "      <td>43070</td>\n",
       "      <td>007 00 0 143.00</td>\n",
       "      <td>SINGLE FAMILY</td>\n",
       "      <td>255000</td>\n",
       "      <td>20160129-0008913</td>\n",
       "      <td>No</td>\n",
       "      <td>BAKER, JAY K. &amp; SUSAN E.</td>\n",
       "      <td>2.6</td>\n",
       "      <td>50000.0</td>\n",
       "      <td>147300.0</td>\n",
       "      <td>...</td>\n",
       "      <td>1985.0</td>\n",
       "      <td>3.0</td>\n",
       "      <td>3.0</td>\n",
       "      <td>0.0</td>\n",
       "      <td>1/29/2016</td>\n",
       "      <td>1853  FOX CHASE DR</td>\n",
       "      <td>GOODLETTSVILLE</td>\n",
       "      <td>1853  FOX CHASE DR</td>\n",
       "      <td>GOODLETTSVILLE</td>\n",
       "      <td>TN</td>\n",
       "    </tr>\n",
       "    <tr>\n",
       "      <th>4</th>\n",
       "      <td>22714</td>\n",
       "      <td>007 00 0 149.00</td>\n",
       "      <td>SINGLE FAMILY</td>\n",
       "      <td>278000</td>\n",
       "      <td>20141015-0095255</td>\n",
       "      <td>No</td>\n",
       "      <td>POST, CHRISTOPHER M. &amp; SAMANTHA C.</td>\n",
       "      <td>2.0</td>\n",
       "      <td>50000.0</td>\n",
       "      <td>152300.0</td>\n",
       "      <td>...</td>\n",
       "      <td>1984.0</td>\n",
       "      <td>4.0</td>\n",
       "      <td>3.0</td>\n",
       "      <td>0.0</td>\n",
       "      <td>10/10/2014</td>\n",
       "      <td>1829  FOX CHASE DR</td>\n",
       "      <td>GOODLETTSVILLE</td>\n",
       "      <td>1829  FOX CHASE DR</td>\n",
       "      <td>GOODLETTSVILLE</td>\n",
       "      <td>TN</td>\n",
       "    </tr>\n",
       "  </tbody>\n",
       "</table>\n",
       "<p>5 rows × 21 columns</p>\n",
       "</div>"
      ],
      "text/plain": [
       "   UniqueID          ParcelID        LandUse  SalePrice    LegalReference  \\\n",
       "0       2045  007 00 0 125.00  SINGLE FAMILY     240000  20130412-0036474   \n",
       "1      16918  007 00 0 130.00  SINGLE FAMILY     366000  20140619-0053768   \n",
       "2      54582  007 00 0 138.00  SINGLE FAMILY     435000  20160927-0101718   \n",
       "3      43070  007 00 0 143.00  SINGLE FAMILY     255000  20160129-0008913   \n",
       "4      22714  007 00 0 149.00  SINGLE FAMILY     278000  20141015-0095255   \n",
       "\n",
       "  SoldAsVacant                           OwnerName  Acreage  LandValue  \\\n",
       "0           No           FRAZIER, CYRENTHA LYNETTE      2.3    50000.0   \n",
       "1           No             BONER, CHARLES & LESLIE      3.5    50000.0   \n",
       "2           No           WILSON, JAMES E. & JOANNE      2.9    50000.0   \n",
       "3           No            BAKER, JAY K. & SUSAN E.      2.6    50000.0   \n",
       "4           No  POST, CHRISTOPHER M. & SAMANTHA C.      2.0    50000.0   \n",
       "\n",
       "   BuildingValue  ...  YearBuilt  Bedrooms  FullBath  HalfBath  \\\n",
       "0       168200.0  ...     1986.0       3.0       3.0       0.0   \n",
       "1       264100.0  ...     1998.0       3.0       3.0       2.0   \n",
       "2       216200.0  ...     1987.0       4.0       3.0       0.0   \n",
       "3       147300.0  ...     1985.0       3.0       3.0       0.0   \n",
       "4       152300.0  ...     1984.0       4.0       3.0       0.0   \n",
       "\n",
       "   SaleDateConverted PropertySplitAddress PropertySplitCity  \\\n",
       "0           4/9/2013   1808  FOX CHASE DR    GOODLETTSVILLE   \n",
       "1          6/10/2014   1832  FOX CHASE DR    GOODLETTSVILLE   \n",
       "2          9/26/2016   1864 FOX CHASE  DR    GOODLETTSVILLE   \n",
       "3          1/29/2016   1853  FOX CHASE DR    GOODLETTSVILLE   \n",
       "4         10/10/2014   1829  FOX CHASE DR    GOODLETTSVILLE   \n",
       "\n",
       "    OwnerSplitAddress   OwnerSplitCity OwnerSplitState  \n",
       "0  1808  FOX CHASE DR   GOODLETTSVILLE              TN  \n",
       "1  1832  FOX CHASE DR   GOODLETTSVILLE              TN  \n",
       "2  1864  FOX CHASE DR   GOODLETTSVILLE              TN  \n",
       "3  1853  FOX CHASE DR   GOODLETTSVILLE              TN  \n",
       "4  1829  FOX CHASE DR   GOODLETTSVILLE              TN  \n",
       "\n",
       "[5 rows x 21 columns]"
      ]
     },
     "execution_count": 1,
     "metadata": {},
     "output_type": "execute_result"
    }
   ],
   "source": [
    "import pandas as pd\n",
    "import seaborn as sns\n",
    "from category_encoders import OneHotEncoder\n",
    "from ipywidgets import Dropdown, interact\n",
    "from sklearn.model_selection import train_test_split\n",
    "from sklearn.impute import SimpleImputer\n",
    "from sklearn.linear_model import LinearRegression, Ridge  \n",
    "from sklearn.metrics import mean_absolute_error\n",
    "from sklearn.pipeline import make_pipeline\n",
    "\n",
    "df = pd.read_csv (\"C:/Users/Muibat Odunukan/Documents/personal/Portfolio Projects/Dataset/Cleaned_Nashville.csv\")\n",
    "df.head()"
   ]
  },
  {
   "cell_type": "markdown",
   "id": "7e4bf651",
   "metadata": {},
   "source": [
    "### Explore"
   ]
  },
  {
   "cell_type": "code",
   "execution_count": 2,
   "id": "b3de48b0",
   "metadata": {},
   "outputs": [
    {
     "data": {
      "text/html": [
       "<div>\n",
       "<style scoped>\n",
       "    .dataframe tbody tr th:only-of-type {\n",
       "        vertical-align: middle;\n",
       "    }\n",
       "\n",
       "    .dataframe tbody tr th {\n",
       "        vertical-align: top;\n",
       "    }\n",
       "\n",
       "    .dataframe thead th {\n",
       "        text-align: right;\n",
       "    }\n",
       "</style>\n",
       "<table border=\"1\" class=\"dataframe\">\n",
       "  <thead>\n",
       "    <tr style=\"text-align: right;\">\n",
       "      <th></th>\n",
       "      <th>ParcelID</th>\n",
       "      <th>LandUse</th>\n",
       "      <th>SalePrice</th>\n",
       "      <th>LegalReference</th>\n",
       "      <th>SoldAsVacant</th>\n",
       "      <th>OwnerName</th>\n",
       "      <th>Acreage</th>\n",
       "      <th>LandValue</th>\n",
       "      <th>BuildingValue</th>\n",
       "      <th>TotalValue</th>\n",
       "      <th>YearBuilt</th>\n",
       "      <th>Bedrooms</th>\n",
       "      <th>FullBath</th>\n",
       "      <th>HalfBath</th>\n",
       "      <th>SaleDateConverted</th>\n",
       "      <th>PropertySplitAddress</th>\n",
       "      <th>PropertySplitCity</th>\n",
       "      <th>OwnerSplitAddress</th>\n",
       "      <th>OwnerSplitCity</th>\n",
       "      <th>OwnerSplitState</th>\n",
       "    </tr>\n",
       "  </thead>\n",
       "  <tbody>\n",
       "    <tr>\n",
       "      <th>0</th>\n",
       "      <td>007 00 0 125.00</td>\n",
       "      <td>SINGLE FAMILY</td>\n",
       "      <td>240000</td>\n",
       "      <td>20130412-0036474</td>\n",
       "      <td>No</td>\n",
       "      <td>FRAZIER, CYRENTHA LYNETTE</td>\n",
       "      <td>2.3</td>\n",
       "      <td>50000.0</td>\n",
       "      <td>168200.0</td>\n",
       "      <td>235700.0</td>\n",
       "      <td>1986.0</td>\n",
       "      <td>3.0</td>\n",
       "      <td>3.0</td>\n",
       "      <td>0.0</td>\n",
       "      <td>4/9/2013</td>\n",
       "      <td>1808  FOX CHASE DR</td>\n",
       "      <td>GOODLETTSVILLE</td>\n",
       "      <td>1808  FOX CHASE DR</td>\n",
       "      <td>GOODLETTSVILLE</td>\n",
       "      <td>TN</td>\n",
       "    </tr>\n",
       "    <tr>\n",
       "      <th>1</th>\n",
       "      <td>007 00 0 130.00</td>\n",
       "      <td>SINGLE FAMILY</td>\n",
       "      <td>366000</td>\n",
       "      <td>20140619-0053768</td>\n",
       "      <td>No</td>\n",
       "      <td>BONER, CHARLES &amp; LESLIE</td>\n",
       "      <td>3.5</td>\n",
       "      <td>50000.0</td>\n",
       "      <td>264100.0</td>\n",
       "      <td>319000.0</td>\n",
       "      <td>1998.0</td>\n",
       "      <td>3.0</td>\n",
       "      <td>3.0</td>\n",
       "      <td>2.0</td>\n",
       "      <td>6/10/2014</td>\n",
       "      <td>1832  FOX CHASE DR</td>\n",
       "      <td>GOODLETTSVILLE</td>\n",
       "      <td>1832  FOX CHASE DR</td>\n",
       "      <td>GOODLETTSVILLE</td>\n",
       "      <td>TN</td>\n",
       "    </tr>\n",
       "    <tr>\n",
       "      <th>2</th>\n",
       "      <td>007 00 0 138.00</td>\n",
       "      <td>SINGLE FAMILY</td>\n",
       "      <td>435000</td>\n",
       "      <td>20160927-0101718</td>\n",
       "      <td>No</td>\n",
       "      <td>WILSON, JAMES E. &amp; JOANNE</td>\n",
       "      <td>2.9</td>\n",
       "      <td>50000.0</td>\n",
       "      <td>216200.0</td>\n",
       "      <td>298000.0</td>\n",
       "      <td>1987.0</td>\n",
       "      <td>4.0</td>\n",
       "      <td>3.0</td>\n",
       "      <td>0.0</td>\n",
       "      <td>9/26/2016</td>\n",
       "      <td>1864 FOX CHASE  DR</td>\n",
       "      <td>GOODLETTSVILLE</td>\n",
       "      <td>1864  FOX CHASE DR</td>\n",
       "      <td>GOODLETTSVILLE</td>\n",
       "      <td>TN</td>\n",
       "    </tr>\n",
       "    <tr>\n",
       "      <th>3</th>\n",
       "      <td>007 00 0 143.00</td>\n",
       "      <td>SINGLE FAMILY</td>\n",
       "      <td>255000</td>\n",
       "      <td>20160129-0008913</td>\n",
       "      <td>No</td>\n",
       "      <td>BAKER, JAY K. &amp; SUSAN E.</td>\n",
       "      <td>2.6</td>\n",
       "      <td>50000.0</td>\n",
       "      <td>147300.0</td>\n",
       "      <td>197300.0</td>\n",
       "      <td>1985.0</td>\n",
       "      <td>3.0</td>\n",
       "      <td>3.0</td>\n",
       "      <td>0.0</td>\n",
       "      <td>1/29/2016</td>\n",
       "      <td>1853  FOX CHASE DR</td>\n",
       "      <td>GOODLETTSVILLE</td>\n",
       "      <td>1853  FOX CHASE DR</td>\n",
       "      <td>GOODLETTSVILLE</td>\n",
       "      <td>TN</td>\n",
       "    </tr>\n",
       "    <tr>\n",
       "      <th>4</th>\n",
       "      <td>007 00 0 149.00</td>\n",
       "      <td>SINGLE FAMILY</td>\n",
       "      <td>278000</td>\n",
       "      <td>20141015-0095255</td>\n",
       "      <td>No</td>\n",
       "      <td>POST, CHRISTOPHER M. &amp; SAMANTHA C.</td>\n",
       "      <td>2.0</td>\n",
       "      <td>50000.0</td>\n",
       "      <td>152300.0</td>\n",
       "      <td>202300.0</td>\n",
       "      <td>1984.0</td>\n",
       "      <td>4.0</td>\n",
       "      <td>3.0</td>\n",
       "      <td>0.0</td>\n",
       "      <td>10/10/2014</td>\n",
       "      <td>1829  FOX CHASE DR</td>\n",
       "      <td>GOODLETTSVILLE</td>\n",
       "      <td>1829  FOX CHASE DR</td>\n",
       "      <td>GOODLETTSVILLE</td>\n",
       "      <td>TN</td>\n",
       "    </tr>\n",
       "  </tbody>\n",
       "</table>\n",
       "</div>"
      ],
      "text/plain": [
       "          ParcelID        LandUse  SalePrice    LegalReference SoldAsVacant  \\\n",
       "0  007 00 0 125.00  SINGLE FAMILY     240000  20130412-0036474           No   \n",
       "1  007 00 0 130.00  SINGLE FAMILY     366000  20140619-0053768           No   \n",
       "2  007 00 0 138.00  SINGLE FAMILY     435000  20160927-0101718           No   \n",
       "3  007 00 0 143.00  SINGLE FAMILY     255000  20160129-0008913           No   \n",
       "4  007 00 0 149.00  SINGLE FAMILY     278000  20141015-0095255           No   \n",
       "\n",
       "                            OwnerName  Acreage  LandValue  BuildingValue  \\\n",
       "0           FRAZIER, CYRENTHA LYNETTE      2.3    50000.0       168200.0   \n",
       "1             BONER, CHARLES & LESLIE      3.5    50000.0       264100.0   \n",
       "2           WILSON, JAMES E. & JOANNE      2.9    50000.0       216200.0   \n",
       "3            BAKER, JAY K. & SUSAN E.      2.6    50000.0       147300.0   \n",
       "4  POST, CHRISTOPHER M. & SAMANTHA C.      2.0    50000.0       152300.0   \n",
       "\n",
       "   TotalValue  YearBuilt  Bedrooms  FullBath  HalfBath SaleDateConverted  \\\n",
       "0    235700.0     1986.0       3.0       3.0       0.0          4/9/2013   \n",
       "1    319000.0     1998.0       3.0       3.0       2.0         6/10/2014   \n",
       "2    298000.0     1987.0       4.0       3.0       0.0         9/26/2016   \n",
       "3    197300.0     1985.0       3.0       3.0       0.0         1/29/2016   \n",
       "4    202300.0     1984.0       4.0       3.0       0.0        10/10/2014   \n",
       "\n",
       "  PropertySplitAddress PropertySplitCity   OwnerSplitAddress   OwnerSplitCity  \\\n",
       "0   1808  FOX CHASE DR    GOODLETTSVILLE  1808  FOX CHASE DR   GOODLETTSVILLE   \n",
       "1   1832  FOX CHASE DR    GOODLETTSVILLE  1832  FOX CHASE DR   GOODLETTSVILLE   \n",
       "2   1864 FOX CHASE  DR    GOODLETTSVILLE  1864  FOX CHASE DR   GOODLETTSVILLE   \n",
       "3   1853  FOX CHASE DR    GOODLETTSVILLE  1853  FOX CHASE DR   GOODLETTSVILLE   \n",
       "4   1829  FOX CHASE DR    GOODLETTSVILLE  1829  FOX CHASE DR   GOODLETTSVILLE   \n",
       "\n",
       "  OwnerSplitState  \n",
       "0              TN  \n",
       "1              TN  \n",
       "2              TN  \n",
       "3              TN  \n",
       "4              TN  "
      ]
     },
     "execution_count": 2,
     "metadata": {},
     "output_type": "execute_result"
    }
   ],
   "source": [
    "# Subsetting all colums except \"UniqueID\". It is not useful \n",
    "\n",
    "df = df.iloc[:,1:]\n",
    "df.head()"
   ]
  },
  {
   "cell_type": "code",
   "execution_count": 3,
   "id": "fb063fbb",
   "metadata": {
    "scrolled": false
   },
   "outputs": [
    {
     "name": "stdout",
     "output_type": "stream",
     "text": [
      "<class 'pandas.core.frame.DataFrame'>\n",
      "RangeIndex: 56373 entries, 0 to 56372\n",
      "Data columns (total 20 columns):\n",
      " #   Column                Non-Null Count  Dtype  \n",
      "---  ------                --------------  -----  \n",
      " 0   ParcelID              56373 non-null  object \n",
      " 1   LandUse               56373 non-null  object \n",
      " 2   SalePrice             56373 non-null  int64  \n",
      " 3   LegalReference        56373 non-null  object \n",
      " 4   SoldAsVacant          56373 non-null  object \n",
      " 5   OwnerName             25215 non-null  object \n",
      " 6   Acreage               25969 non-null  float64\n",
      " 7   LandValue             25969 non-null  float64\n",
      " 8   BuildingValue         25969 non-null  float64\n",
      " 9   TotalValue            25969 non-null  float64\n",
      " 10  YearBuilt             24118 non-null  float64\n",
      " 11  Bedrooms              24112 non-null  float64\n",
      " 12  FullBath              24230 non-null  float64\n",
      " 13  HalfBath              24099 non-null  float64\n",
      " 14  SaleDateConverted     56373 non-null  object \n",
      " 15  PropertySplitAddress  56373 non-null  object \n",
      " 16  PropertySplitCity     56373 non-null  object \n",
      " 17  OwnerSplitAddress     25969 non-null  object \n",
      " 18  OwnerSplitCity        25969 non-null  object \n",
      " 19  OwnerSplitState       25969 non-null  object \n",
      "dtypes: float64(8), int64(1), object(11)\n",
      "memory usage: 8.6+ MB\n"
     ]
    }
   ],
   "source": [
    "df.info()"
   ]
  },
  {
   "cell_type": "code",
   "execution_count": 4,
   "id": "b3717353",
   "metadata": {},
   "outputs": [
    {
     "data": {
      "text/plain": [
       "ParcelID                48559\n",
       "LandUse                    39\n",
       "LegalReference          52761\n",
       "SoldAsVacant                2\n",
       "OwnerName               19713\n",
       "SaleDateConverted        1119\n",
       "PropertySplitAddress    45061\n",
       "PropertySplitCity          14\n",
       "OwnerSplitAddress       22326\n",
       "OwnerSplitCity             12\n",
       "OwnerSplitState             1\n",
       "dtype: int64"
      ]
     },
     "execution_count": 4,
     "metadata": {},
     "output_type": "execute_result"
    }
   ],
   "source": [
    "df.select_dtypes(\"object\").nunique()"
   ]
  },
  {
   "cell_type": "code",
   "execution_count": 5,
   "id": "d7e04519",
   "metadata": {},
   "outputs": [],
   "source": [
    "#Drop columns with low- and high- cardinality categorical features\n",
    "df.drop(columns=[\n",
    "    \"SoldAsVacant\", \n",
    "    \"OwnerSplitState\", \n",
    "    \"ParcelID\", \n",
    "    \"LegalReference\", \n",
    "    \"OwnerName\", \n",
    "    \"SaleDateConverted\", \n",
    "    \"PropertySplitAddress\", \n",
    "    \"OwnerSplitAddress\"''    \n",
    "], inplace=True)"
   ]
  },
  {
   "cell_type": "code",
   "execution_count": 6,
   "id": "c56ba551",
   "metadata": {},
   "outputs": [
    {
     "data": {
      "text/plain": [
       "LandUse               0.000000\n",
       "SalePrice             0.000000\n",
       "Acreage              53.933621\n",
       "LandValue            53.933621\n",
       "BuildingValue        53.933621\n",
       "TotalValue           53.933621\n",
       "YearBuilt            57.217107\n",
       "Bedrooms             57.227751\n",
       "FullBath             57.018431\n",
       "HalfBath             57.250812\n",
       "PropertySplitCity     0.000000\n",
       "OwnerSplitCity       53.933621\n",
       "dtype: float64"
      ]
     },
     "execution_count": 6,
     "metadata": {},
     "output_type": "execute_result"
    }
   ],
   "source": [
    "df.isnull().sum() / len(df) * 100"
   ]
  },
  {
   "cell_type": "code",
   "execution_count": 7,
   "id": "ae876d23",
   "metadata": {},
   "outputs": [],
   "source": [
    "#Drop columns with more than 50% null values\n",
    "\n",
    "df.drop(columns=[\n",
    "    \"Acreage\", \n",
    "    \"LandValue\", \n",
    "    \"BuildingValue\", \n",
    "    \"TotalValue\", \n",
    "    \"YearBuilt\", \n",
    "    \"Bedrooms\", \n",
    "    \"FullBath\", \n",
    "    \"HalfBath\",\n",
    "    \"OwnerSplitCity\"\n",
    "], inplace=True)"
   ]
  },
  {
   "cell_type": "code",
   "execution_count": 8,
   "id": "6c165ade",
   "metadata": {},
   "outputs": [
    {
     "name": "stdout",
     "output_type": "stream",
     "text": [
      "<class 'pandas.core.frame.DataFrame'>\n",
      "RangeIndex: 56373 entries, 0 to 56372\n",
      "Data columns (total 3 columns):\n",
      " #   Column             Non-Null Count  Dtype \n",
      "---  ------             --------------  ----- \n",
      " 0   LandUse            56373 non-null  object\n",
      " 1   SalePrice          56373 non-null  int64 \n",
      " 2   PropertySplitCity  56373 non-null  object\n",
      "dtypes: int64(1), object(2)\n",
      "memory usage: 1.3+ MB\n"
     ]
    }
   ],
   "source": [
    "df.info()"
   ]
  },
  {
   "cell_type": "markdown",
   "id": "e8ec81e3",
   "metadata": {},
   "source": [
    "   ### 1.3 Split"
   ]
  },
  {
   "cell_type": "code",
   "execution_count": 9,
   "id": "7f636cfb",
   "metadata": {},
   "outputs": [],
   "source": [
    "# Seperate the Feature Matrix (X) from Target vector (y)\n",
    "target = \"SalePrice\"\n",
    "features = [\"LandUse\", \"PropertySplitCity\"]\n",
    "X = df[features]\n",
    "y = df[target]"
   ]
  },
  {
   "cell_type": "code",
   "execution_count": 10,
   "id": "e16e4263",
   "metadata": {},
   "outputs": [],
   "source": [
    "#Split into 70-30\n",
    "X_train, X_test, y_train, y_test=train_test_split(X,y, test_size=0.30, random_state=42)"
   ]
  },
  {
   "cell_type": "markdown",
   "id": "d8a39f76",
   "metadata": {},
   "source": [
    "## Build Model"
   ]
  },
  {
   "cell_type": "markdown",
   "id": "1d875de7",
   "metadata": {},
   "source": [
    "### Baseline"
   ]
  },
  {
   "cell_type": "code",
   "execution_count": 11,
   "id": "5ffac584",
   "metadata": {},
   "outputs": [
    {
     "name": "stdout",
     "output_type": "stream",
     "text": [
      "Mean housing Price: 332382.34\n",
      "Basline_MAE: 239043.0101595623\n"
     ]
    }
   ],
   "source": [
    "y_mean = y_train.mean()\n",
    "y_pred_baseline = [y_mean] *len(y_train)\n",
    "\n",
    "print(\"Mean housing Price:\", round(y_mean, 2))\n",
    "print(\"Basline_MAE:\", mean_absolute_error(y_train, y_pred_baseline))"
   ]
  },
  {
   "cell_type": "markdown",
   "id": "3a20095d",
   "metadata": {},
   "source": [
    "### Iterate "
   ]
  },
  {
   "cell_type": "code",
   "execution_count": 12,
   "id": "3a01f4f2",
   "metadata": {},
   "outputs": [
    {
     "data": {
      "text/plain": [
       "Pipeline(steps=[('onehotencoder',\n",
       "                 OneHotEncoder(cols=['LandUse', 'PropertySplitCity'],\n",
       "                               use_cat_names=True)),\n",
       "                ('ridge', Ridge())])"
      ]
     },
     "execution_count": 12,
     "metadata": {},
     "output_type": "execute_result"
    }
   ],
   "source": [
    "#create pipeline that contains a OneHotEncoder and Ridge predictor.\n",
    "\n",
    "model = make_pipeline(\n",
    "    OneHotEncoder(use_cat_names=True),\n",
    "    Ridge()\n",
    ")                          \n",
    "model.fit(X_train, y_train)"
   ]
  },
  {
   "cell_type": "markdown",
   "id": "25988309",
   "metadata": {},
   "source": [
    "### Evaluate"
   ]
  },
  {
   "cell_type": "code",
   "execution_count": 13,
   "id": "634ed67b",
   "metadata": {},
   "outputs": [
    {
     "name": "stdout",
     "output_type": "stream",
     "text": [
      "Training MAE: 237155.97824220566\n"
     ]
    }
   ],
   "source": [
    "y_pred_training = model.predict(X_train)\n",
    "print(\"Training MAE:\", mean_absolute_error(y_train, y_pred_training))"
   ]
  },
  {
   "cell_type": "code",
   "execution_count": 14,
   "id": "eafd8949",
   "metadata": {},
   "outputs": [
    {
     "name": "stdout",
     "output_type": "stream",
     "text": [
      "Training MAE: 221917.14186512155\n"
     ]
    }
   ],
   "source": [
    "y_pred_test = pd.Series(model.predict(X_test))\n",
    "print(\"Training MAE:\", mean_absolute_error(y_test, y_pred_test))"
   ]
  },
  {
   "cell_type": "markdown",
   "id": "64da47a8",
   "metadata": {},
   "source": [
    "## Communicate Result"
   ]
  },
  {
   "cell_type": "code",
   "execution_count": 15,
   "id": "5f4a463c",
   "metadata": {},
   "outputs": [],
   "source": [
    "# Create a prediction function to deploy model \n",
    "\n",
    "def make_prediction(LandUse, City):\n",
    "    data ={\n",
    "        \"LandUse\" : LandUse,\n",
    "        \"PropertySplitCity\" : City\n",
    "    }\n",
    "    df = pd.DataFrame(data, index=[0])\n",
    "    prediction = model.predict(df).round(2)[0]\n",
    "    return f\"Predicted apartment price: ${prediction}\""
   ]
  },
  {
   "cell_type": "code",
   "execution_count": 16,
   "id": "960cd6c5",
   "metadata": {
    "scrolled": true
   },
   "outputs": [
    {
     "data": {
      "text/plain": [
       "'Predicted apartment price: $197811.04'"
      ]
     },
     "execution_count": 16,
     "metadata": {},
     "output_type": "execute_result"
    }
   ],
   "source": [
    "make_prediction(\"SINGLE FAMILY\", \"JOELTON\")"
   ]
  },
  {
   "cell_type": "code",
   "execution_count": 17,
   "id": "f1acf458",
   "metadata": {},
   "outputs": [
    {
     "data": {
      "application/vnd.jupyter.widget-view+json": {
       "model_id": "6e568c710dd040188817cd1e7e4c4efa",
       "version_major": 2,
       "version_minor": 0
      },
      "text/plain": [
       "interactive(children=(Dropdown(description='LandUse', options=('APARTMENT: LOW RISE (BUILT SINCE 1960)', 'CHUR…"
      ]
     },
     "metadata": {},
     "output_type": "display_data"
    }
   ],
   "source": [
    "# Create an interacttive Dashboard to deploy trained model\n",
    "\n",
    "interact(\n",
    "    make_prediction,\n",
    "    LandUse=Dropdown(options=sorted(X_train[\"LandUse\"].unique())),\n",
    "    City=Dropdown(options=sorted(X_train[\"PropertySplitCity\"].unique()))\n",
    ");"
   ]
  },
  {
   "cell_type": "code",
   "execution_count": null,
   "id": "c744a5d4",
   "metadata": {},
   "outputs": [],
   "source": []
  }
 ],
 "metadata": {
  "kernelspec": {
   "display_name": "Python 3 (ipykernel)",
   "language": "python",
   "name": "python3"
  },
  "language_info": {
   "codemirror_mode": {
    "name": "ipython",
    "version": 3
   },
   "file_extension": ".py",
   "mimetype": "text/x-python",
   "name": "python",
   "nbconvert_exporter": "python",
   "pygments_lexer": "ipython3",
   "version": "3.9.7"
  }
 },
 "nbformat": 4,
 "nbformat_minor": 5
}
